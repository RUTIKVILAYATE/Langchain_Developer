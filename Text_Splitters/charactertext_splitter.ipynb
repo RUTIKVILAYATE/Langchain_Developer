{
 "cells": [
  {
   "cell_type": "markdown",
   "metadata": {},
   "source": [
    "How to split by character -> Character Text Splitter\n",
    "\n",
    "This is the simplest method which splits text based on the given character sequence, which defaults to \"\\n\\n\"\n",
    "Chunk lenght is measured by no. of characters\n",
    "\n",
    "1. How the text is split: by single character separator\n",
    "2. How the chunk size is measured: by no. of characters"
   ]
  },
  {
   "cell_type": "code",
   "execution_count": 3,
   "metadata": {},
   "outputs": [
    {
     "data": {
      "text/plain": [
       "[Document(metadata={'source': 'speech.txt'}, page_content='Abstract- Analysis of electroencephalography (EEG) data is pivotal for understanding brain function and diagnosing \\nneurological disorders. However, conventional approaches often struggle with the intricate nonlinear and dynamic \\ncharacteristics of EEG signals. This study introduces Liquid Time Constant (LTC) networks, a novel deep learning \\narchitecture tailored for time-series analysis in EEG data. LTC networks offer several advantages over traditional methods. \\nTheir unique liquid time constant mechanism enables adaptive capture of temporal dependencies, resulting in enhanced \\nperformance for tasks such as signal classification and prediction. Furthermore, their inherent stability and bounded \\nbehavior make them particularly suitable for real-time applications.')]"
      ]
     },
     "execution_count": 3,
     "metadata": {},
     "output_type": "execute_result"
    }
   ],
   "source": [
    "from langchain_community.document_loaders import TextLoader\n",
    "loader = TextLoader(\"speech.txt\")\n",
    "docs = loader.load()\n",
    "docs"
   ]
  },
  {
   "cell_type": "code",
   "execution_count": 5,
   "metadata": {},
   "outputs": [
    {
     "data": {
      "text/plain": [
       "[Document(metadata={'source': 'speech.txt'}, page_content='Abstract- Analysis of electroencephalography (EEG) data is pivotal for understanding brain function and diagnosing \\nneurological disorders. However, conventional approaches often struggle with the intricate nonlinear and dynamic \\ncharacteristics of EEG signals. This study introduces Liquid Time Constant (LTC) networks, a novel deep learning \\narchitecture tailored for time-series analysis in EEG data. LTC networks offer several advantages over traditional methods. \\nTheir unique liquid time constant mechanism enables adaptive capture of temporal dependencies, resulting in enhanced \\nperformance for tasks such as signal classification and prediction. Furthermore, their inherent stability and bounded \\nbehavior make them particularly suitable for real-time applications.')]"
      ]
     },
     "execution_count": 5,
     "metadata": {},
     "output_type": "execute_result"
    }
   ],
   "source": [
    "from langchain_text_splitters import CharacterTextSplitter\n",
    "\n",
    "text_splitter = CharacterTextSplitter(separator=\"\\n\\n\",chunk_size = 100, chunk_overlap=20)\n",
    "text_splitter.split_documents(docs)"
   ]
  },
  {
   "cell_type": "code",
   "execution_count": 9,
   "metadata": {},
   "outputs": [
    {
     "name": "stdout",
     "output_type": "stream",
     "text": [
      "page_content='Abstract- Analysis of electroencephalography (EEG) data is pivotal for understanding brain function and diagnosing \n",
      "neurological disorders. However, conventional approaches often struggle with the intricate nonlinear and dynamic \n",
      "characteristics of EEG signals. This study introduces Liquid Time Constant (LTC) networks, a novel deep learning \n",
      "architecture tailored for time-series analysis in EEG data. LTC networks offer several advantages over traditional methods. \n",
      "Their unique liquid time constant mechanism enables adaptive capture of temporal dependencies, resulting in enhanced \n",
      "performance for tasks such as signal classification and prediction. Furthermore, their inherent stability and bounded \n",
      "behavior make them particularly suitable for real-time applications.'\n"
     ]
    }
   ],
   "source": [
    "speech = \"\"\n",
    "with open(\"speech.txt\") as f:\n",
    "    speech = f.read()\n",
    "\n",
    "text_splitter = CharacterTextSplitter(chunk_size = 100, chunk_overlap=20)\n",
    "text = text_splitter.create_documents([speech])\n",
    "print(text[0])\n",
    "# print(text[1])"
   ]
  }
 ],
 "metadata": {
  "kernelspec": {
   "display_name": ".venv",
   "language": "python",
   "name": "python3"
  },
  "language_info": {
   "codemirror_mode": {
    "name": "ipython",
    "version": 3
   },
   "file_extension": ".py",
   "mimetype": "text/x-python",
   "name": "python",
   "nbconvert_exporter": "python",
   "pygments_lexer": "ipython3",
   "version": "3.12.6"
  }
 },
 "nbformat": 4,
 "nbformat_minor": 2
}
