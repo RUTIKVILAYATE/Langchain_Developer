{
 "cells": [
  {
   "cell_type": "code",
   "execution_count": null,
   "metadata": {},
   "outputs": [],
   "source": [
    "#  IF WANT TO SPLLIT HTML HEADER TEXT -> CAN BE DONE USING HTMLHeaderTextSplitter\n",
    "\n",
    "from langchain_text_splitters import HTMLHeaderTextSplitter\n",
    "html_string = \"\"\" \n",
    "\n",
    "html content\n",
    "\n",
    "\n",
    "\"\"\" "
   ]
  },
  {
   "cell_type": "code",
   "execution_count": 1,
   "metadata": {},
   "outputs": [
    {
     "name": "stderr",
     "output_type": "stream",
     "text": [
      "<>:2: SyntaxWarning: 'tuple' object is not callable; perhaps you missed a comma?\n",
      "<>:2: SyntaxWarning: 'tuple' object is not callable; perhaps you missed a comma?\n",
      "C:\\Users\\Rutik Vilayate\\AppData\\Local\\Temp\\ipykernel_26824\\1260321770.py:2: SyntaxWarning: 'tuple' object is not callable; perhaps you missed a comma?\n",
      "  (\"h1\", \"header 1\")\n"
     ]
    },
    {
     "ename": "TypeError",
     "evalue": "'tuple' object is not callable",
     "output_type": "error",
     "traceback": [
      "\u001b[1;31m---------------------------------------------------------------------------\u001b[0m",
      "\u001b[1;31mTypeError\u001b[0m                                 Traceback (most recent call last)",
      "Cell \u001b[1;32mIn[1], line 2\u001b[0m\n\u001b[0;32m      1\u001b[0m header_to_split_on \u001b[38;5;241m=\u001b[39m {\n\u001b[1;32m----> 2\u001b[0m     \u001b[43m(\u001b[49m\u001b[38;5;124;43m\"\u001b[39;49m\u001b[38;5;124;43mh1\u001b[39;49m\u001b[38;5;124;43m\"\u001b[39;49m\u001b[43m,\u001b[49m\u001b[43m \u001b[49m\u001b[38;5;124;43m\"\u001b[39;49m\u001b[38;5;124;43mheader 1\u001b[39;49m\u001b[38;5;124;43m\"\u001b[39;49m\u001b[43m)\u001b[49m\n\u001b[0;32m      3\u001b[0m \u001b[43m    \u001b[49m\u001b[43m(\u001b[49m\u001b[38;5;124;43m\"\u001b[39;49m\u001b[38;5;124;43mh2\u001b[39;49m\u001b[38;5;124;43m\"\u001b[39;49m\u001b[43m,\u001b[49m\u001b[43m \u001b[49m\u001b[38;5;124;43m\"\u001b[39;49m\u001b[38;5;124;43mheader 2\u001b[39;49m\u001b[38;5;124;43m\"\u001b[39;49m\u001b[43m)\u001b[49m\n\u001b[0;32m      4\u001b[0m     (\u001b[38;5;124m\"\u001b[39m\u001b[38;5;124mh3\u001b[39m\u001b[38;5;124m\"\u001b[39m, \u001b[38;5;124m\"\u001b[39m\u001b[38;5;124mheader 3\u001b[39m\u001b[38;5;124m\"\u001b[39m)\n\u001b[0;32m      5\u001b[0m }\n",
      "\u001b[1;31mTypeError\u001b[0m: 'tuple' object is not callable"
     ]
    }
   ],
   "source": [
    "header_to_split_on = {\n",
    "    (\"h1\", \"header 1\")\n",
    "    (\"h2\", \"header 2\")\n",
    "    (\"h3\", \"header 3\")\n",
    "}\n",
    "\n",
    "\n",
    "#  Splitting the text with html docs\n",
    "html_splitter =  HTMLHeaderTextSplitter(headers_to_split_on)\n",
    "html_header_split = html_splitter.split_text(html_string)\n",
    "html_header_split"
   ]
  },
  {
   "cell_type": "code",
   "execution_count": null,
   "metadata": {},
   "outputs": [],
   "source": [
    "# we can also split based on given url of HTML docs \n",
    "url = \" url of the website \"\n",
    "\n",
    "header_to_split_on = [\n",
    "    (\"h1\", \"header 1\")\n",
    "    (\"h2\", \"header 2\")\n",
    "    (\"h3\", \"header 3\")\n",
    "]\n",
    "\n",
    "\n",
    "#  Splitting the text with html docs\n",
    "html_splitter =  HTMLHeaderTextSplitter(headers_to_split_on)\n",
    "html_header_split = html_splitter.split_text(html_string)\n",
    "html_header_split\n",
    "\n"
   ]
  }
 ],
 "metadata": {
  "kernelspec": {
   "display_name": ".venv",
   "language": "python",
   "name": "python3"
  },
  "language_info": {
   "codemirror_mode": {
    "name": "ipython",
    "version": 3
   },
   "file_extension": ".py",
   "mimetype": "text/x-python",
   "name": "python",
   "nbconvert_exporter": "python",
   "pygments_lexer": "ipython3",
   "version": "3.12.6"
  }
 },
 "nbformat": 4,
 "nbformat_minor": 2
}
