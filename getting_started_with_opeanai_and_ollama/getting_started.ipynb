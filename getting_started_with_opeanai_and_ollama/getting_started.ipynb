{
 "cells": [
  {
   "cell_type": "code",
   "execution_count": null,
   "metadata": {},
   "outputs": [],
   "source": [
    "# HOW TO -> \n",
    "# get setup with Langchain, LangSmith and LangServe\n",
    "# use the most basic and common componenets of langchain -> prompt templates, models and output parsers\n",
    "# Build a simple application with LangChain\n",
    "# Trace that application with LangSmith\n",
    "# Serves that application with LangServe "
   ]
  },
  {
   "cell_type": "code",
   "execution_count": null,
   "metadata": {},
   "outputs": [],
   "source": [
    "# install ipykernel which is required\n",
    "!pip install ipykernel"
   ]
  },
  {
   "cell_type": "code",
   "execution_count": null,
   "metadata": {},
   "outputs": [],
   "source": [
    "# To setup and loading all the environment variables\n",
    "import os \n",
    "from dotenv import load_dotenv\n",
    "load_dotenv.load()"
   ]
  },
  {
   "cell_type": "code",
   "execution_count": null,
   "metadata": {},
   "outputs": [],
   "source": [
    "# Setting up OpenAI and Lanchain API Keys in os environment\n",
    "\n",
    "os.environ[\"OPENAI_API_KEY\"] = os.getenv[\"OPENAI_API_KEY\"]\n",
    "\n",
    "# langchain api key -> specifically for tracking using langsmith as it is a component of langchain\n",
    "os.environ[\"LANGCHAIN_API_KEY\"] = os.getenv[\"LANGCHAIN_API_KEY\"]\n",
    "\n",
    "# for tracking \n",
    "os.environ[\"LANGCHAIN_TRACING_V2\"] = \"true\"\n",
    "os.environ[\"LANGCHAIN_PROJECT\"] = os.getenv[\"LANGCHAIN_PROJECT\"]"
   ]
  },
  {
   "cell_type": "code",
   "execution_count": null,
   "metadata": {},
   "outputs": [],
   "source": [
    "# To create chatbot \n",
    "from langchain_openai import ChatOpenAI \n",
    "gpt_llm = ChatOpenAI(model=\"gpt-4o\")\n",
    "print(gpt_llm)"
   ]
  },
  {
   "cell_type": "code",
   "execution_count": null,
   "metadata": {},
   "outputs": [],
   "source": [
    "# Input and get response from llm\n",
    "result = gpt_llm.invoke(\"What is an GenerativeAI?\")\n",
    "result"
   ]
  },
  {
   "cell_type": "code",
   "execution_count": null,
   "metadata": {},
   "outputs": [],
   "source": [
    "# Prompt Template -> How you want llm model to behave or what kind of response/role you want to give to ur llm model\n",
    "# ex -> act as an ai enginner to develop genai application from scratch\n",
    "\n",
    "# ChatPromptTemplate\n",
    "# system = llm, user = user, system prompt -> defined by developer, user {input} -> will given by user\n",
    "from langchain_core.prompts import ChatPromptTemplate\n",
    "prompt = ChatPromptTemplate.from_messages(\n",
    "    [\n",
    "        (\"system\", \"You are an Expert AI Engineer. Provide me answers based on the question\"),\n",
    "        (\"user\", \"{input}\")\n",
    "    ]\n",
    ")\n",
    "prompt"
   ]
  },
  {
   "cell_type": "code",
   "execution_count": null,
   "metadata": {},
   "outputs": [],
   "source": [
    "# combine prompt and llm -> to get the response from llm based on the user prompt \n",
    "# initializes flow of data -> user input goes to prompt and then it will go to the llm to get response from it \n",
    "chain = prompt|llm\n",
    "\n",
    "response = chain.invoke({\"input\": \"Can you tell me about Langsmith?\"})\n",
    "print(response)"
   ]
  },
  {
   "cell_type": "code",
   "execution_count": null,
   "metadata": {},
   "outputs": [],
   "source": [
    "type(response)    # --> AIMessage"
   ]
  },
  {
   "cell_type": "code",
   "execution_count": null,
   "metadata": {},
   "outputs": [],
   "source": [
    "# To display the output in a specific way - StroutputParser\n",
    "# StroutParser -> will directly show actual text response(message) from the llm and not the whole content and info. about the response \n",
    "\n",
    "\n",
    "from langchain_core.output_parsers import StrOutputParser\n",
    "output_parser = StrOutputParser()\n",
    "chain = prompt|llm|output_parser\n",
    "\n",
    "response = chain.invoke({\"input\":\"Can You Tell me about LangSmith?\"})\n",
    "print(response)"
   ]
  }
 ],
 "metadata": {
  "kernelspec": {
   "display_name": "Python 3",
   "language": "python",
   "name": "python3"
  },
  "language_info": {
   "name": "python",
   "version": "3.10.0"
  }
 },
 "nbformat": 4,
 "nbformat_minor": 2
}
