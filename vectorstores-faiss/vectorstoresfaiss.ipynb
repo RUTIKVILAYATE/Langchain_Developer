{
 "cells": [
  {
   "cell_type": "code",
   "execution_count": null,
   "metadata": {},
   "outputs": [],
   "source": [
    "# FAISS -> FACEBOOK AI SIMILARITY SEARCH\n",
    "# LIBRARY FOR EFFICINET SIMILARITY SEARCHA AND CLUSTERING OF DENSE VECTORS\n",
    "# IT CONTAINS ALGORITHMS THAT SEARCH IN SETS OF VECTORS OF ANY SIZE, UP TO ONES THAT POSSIBLY DO NOT FIT IN RAM\n",
    "# IT ALSO CONTAINS SUPPORTING CODE FOR EVALUATION AND PARAMETER TUNING"
   ]
  },
  {
   "cell_type": "code",
   "execution_count": null,
   "metadata": {},
   "outputs": [],
   "source": [
    "from langchain_community.document_loaders import TextLoader    # can load text into documents\n",
    "from langchain_community.vectorstores import FAISS             # can store embedded data\n",
    "from langchain_community.embeddings import OllamaEmbeddings    # text can be embed using ollamaembeddings \n",
    "from langchain.text_splitter import CharacterTextSplitter      # split the text into chunks\n",
    "\n",
    "loader = TextLoader(\"speech.txt\")\n",
    "documents = loader.load()\n",
    "text_splitter = CharacterTextSplitter(chunk_size=1000,chunk_overlap=30)  \n",
    "docs = text_splitter.split_documents(documents)"
   ]
  },
  {
   "cell_type": "code",
   "execution_count": null,
   "metadata": {},
   "outputs": [],
   "source": [
    "# Convert to embeddings\n",
    "embeddings = OllamaEmbeddings()            \n",
    "db = FAISS.from_documents(docs,embeddings)    # will receive document and type(embedding) performed on it\n",
    "db"
   ]
  },
  {
   "cell_type": "code",
   "execution_count": null,
   "metadata": {},
   "outputs": [],
   "source": [
    "# querying\n",
    "query = \"What does the speaker believe is the main reason the United State should enter the war?\"\n",
    "query2 = \"How does the speaker describe the desired outcome of the war?\"\n",
    "docs = db.similarity_search(query2)\n",
    "docs[0].page_content"
   ]
  },
  {
   "cell_type": "code",
   "execution_count": null,
   "metadata": {},
   "outputs": [],
   "source": [
    "# As a Retrieverr\n",
    "# we can also store retriever into a retriever class -> this allows us to easily use it in other langchain\n",
    "# methods, which largely work with retrievers\n",
    "# Why convert to retriever -> to work with different llm models requirement is to be converted into retriever\n",
    "# so that able to use with any llm model\n",
    "# as largely work with other langchain methods \n",
    "\n",
    "retriever = db.as_retriever()\n",
    "docs = retriever.invoke(query2)\n",
    "docs[0].page_content"
   ]
  },
  {
   "cell_type": "code",
   "execution_count": null,
   "metadata": {},
   "outputs": [],
   "source": [
    "# Similarity Search with Score \n",
    "# returns not only document but also the distance score of the query to them\n",
    "\n",
    "docs_and_score = db.similarity_search_with_score(query2)\n",
    "docs_and_score"
   ]
  },
  {
   "cell_type": "code",
   "execution_count": null,
   "metadata": {},
   "outputs": [],
   "source": [
    "embedding_vector = embeddings.embed_query(query2)"
   ]
  },
  {
   "cell_type": "code",
   "execution_count": null,
   "metadata": {},
   "outputs": [],
   "source": [
    "docs_score = db.similarity_search_by_vector(embedding_vector)\n",
    "docs_score"
   ]
  },
  {
   "cell_type": "code",
   "execution_count": null,
   "metadata": {},
   "outputs": [],
   "source": [
    "# Saving and Loading\n",
    "\n",
    "db.save_local(\"faiss_index\")"
   ]
  },
  {
   "cell_type": "code",
   "execution_count": null,
   "metadata": {},
   "outputs": [],
   "source": [
    "new_db = FAISS.load_local(\"faiss_index\",embeddings,allow_dangerous_deserialization=True)\n",
    "docs = new_db.similarity_search(query2)"
   ]
  }
 ],
 "metadata": {
  "kernelspec": {
   "display_name": "Python 3",
   "language": "python",
   "name": "python3"
  },
  "language_info": {
   "name": "python",
   "version": "3.10.0"
  }
 },
 "nbformat": 4,
 "nbformat_minor": 2
}
