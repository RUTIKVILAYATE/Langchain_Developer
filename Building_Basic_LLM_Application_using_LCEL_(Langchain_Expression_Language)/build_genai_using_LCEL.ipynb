{
 "cells": [
  {
   "cell_type": "code",
   "execution_count": 1,
   "metadata": {},
   "outputs": [],
   "source": [
    "# Build simple LLM application with LCEL\n",
    "# App -> will translate text from english into other language \n",
    "# it is relatively simple application -> just a single llm call + prompting\n",
    "# further -> lot of features can be built with just some prompting and an LLM call\n"
   ]
  },
  {
   "cell_type": "code",
   "execution_count": null,
   "metadata": {},
   "outputs": [],
   "source": [
    "# Knowlege -> \n",
    "# language models \n",
    "# Prompt Template and OutputParsers\n",
    "# Langchain Expression Language to chain components together\n",
    "# Debugging and tracing application using langsmith\n",
    "# Deploying application using langserve"
   ]
  },
  {
   "cell_type": "code",
   "execution_count": null,
   "metadata": {},
   "outputs": [],
   "source": [
    "# Build Application using models like Llama3, Gemma2, mistral -- using platform Groq\n",
    "# To create Groq API key -> Go to Groq LPU -> but before go to groq.com -> sign up -> so can access open source model listed\n",
    "# groq deployed opensource models in their own cloud -> and over there they have used this amazing inferencing -> LPU inferencing \n",
    "\n",
    "# What is LPU inferencing Engine?\n",
    "# Language Processing Unit -> Hardware and Software Platform that delivers exceptional compute speed, quality and energy efficiency speed\n",
    "# thus really fast and get response in no time \n",
    "\n",
    "# Why it is faster than GPUs?\n",
    "# LPU is designed to overcome the two bottlenecks of llm -> compute density and memory bandwidth\n",
    "# LPU has greater compute capacity than a GPU and CPU in regards to LLMs\n",
    "# This reduces the amount of time per word calculated, allowing sequences of text to be generated much faster \n",
    "\n",
    "\n",
    "# What is Groq?  \n",
    "# Groq is the Fast AI inference\n",
    "# AI infrastructure company that delivers fast AI inference "
   ]
  },
  {
   "cell_type": "code",
   "execution_count": null,
   "metadata": {},
   "outputs": [],
   "source": [
    "import os \n",
    "from dotenv impt load_dotenv\n",
    "load_dotenv()\n",
    "\n",
    "import openai\n",
    "openai.api_key=os.getenv(\"OPENAI_API_KEY\")\n",
    "groq_api_key = os.getenv(\"GROQ_API_KEY\")\n",
    "groq_api_key"
   ]
  },
  {
   "cell_type": "code",
   "execution_count": null,
   "metadata": {},
   "outputs": [],
   "source": [
    "# 2 Building LLM, Prompt, and Stroutput Chains with LCEL\n",
    "\n",
    "from langchain_openai import ChatOpenAI\n",
    "from langchain_groq import ChatGroq\n",
    "model = ChatGroq(model=\"Gemma2-9b-It\",groq_api_key=groq_api_key)\n",
    "model "
   ]
  },
  {
   "cell_type": "code",
   "execution_count": null,
   "metadata": {},
   "outputs": [],
   "source": [
    "from langchain_core.messages import HumanMessage, SystemMessage\n",
    "messages = [\n",
    "    SystemMessage(content=\"Translate the following from English to French\"),\n",
    "    HumanMessage(contne=\"Hello! How are you?\")\n",
    "]\n",
    "\n",
    "result = model.invoke(messages)"
   ]
  },
  {
   "cell_type": "code",
   "execution_count": null,
   "metadata": {},
   "outputs": [],
   "source": [
    "# To show the response of llm and not it's whole information to the user\n",
    "from langchain_core.output_parsers import StrOutputParser\n",
    "parser = StrOutputParser()\n",
    "parser.invoke(result)"
   ]
  },
  {
   "cell_type": "code",
   "execution_count": null,
   "metadata": {},
   "outputs": [],
   "source": [
    "# LCEL -> To chain the component\n",
    "chain = model|parser\n",
    "chain.invoke(messages)"
   ]
  },
  {
   "cell_type": "code",
   "execution_count": null,
   "metadata": {},
   "outputs": [],
   "source": [
    "# Prompt Templates\n",
    "from langchain_core.prompts import ChatPromptTemplate\n",
    "\n",
    "generic_template = \"Translate the following into {language}:\"\n",
    "prompt = ChatPromptTemplate.from_messages(\n",
    "    [(\"system\",generic_template),(\"user\",\"{text}\")]\n",
    ")"
   ]
  },
  {
   "cell_type": "code",
   "execution_count": null,
   "metadata": {},
   "outputs": [],
   "source": [
    "prompt.invoke({\"language\":\"French\",\"text\":\"Hello\"})"
   ]
  },
  {
   "cell_type": "code",
   "execution_count": null,
   "metadata": {},
   "outputs": [],
   "source": [
    "result.to_messages()"
   ]
  },
  {
   "cell_type": "code",
   "execution_count": null,
   "metadata": {},
   "outputs": [],
   "source": [
    "# Chaining together component with LCEL\n",
    "\n",
    "chain = prompt|model|parser\n",
    "chain.invoke({\"language\":\"French\",\"text\":\"Hello\"})"
   ]
  },
  {
   "cell_type": "code",
   "execution_count": null,
   "metadata": {},
   "outputs": [],
   "source": [
    "# 3 Deploy Langserve Runnable and Chain as API\n",
    "# Deploy Entire Langchain Application as RestAPI\n",
    "# LangServe helps developers deploy Langchain runnables and chains as REST API\n",
    "# LangServe is ingegrated with FastAPI and uses pydantic for data validation"
   ]
  }
 ],
 "metadata": {
  "kernelspec": {
   "display_name": "Python 3",
   "language": "python",
   "name": "python3"
  },
  "language_info": {
   "codemirror_mode": {
    "name": "ipython",
    "version": 3
   },
   "file_extension": ".py",
   "mimetype": "text/x-python",
   "name": "python",
   "nbconvert_exporter": "python",
   "pygments_lexer": "ipython3",
   "version": "3.10.0"
  }
 },
 "nbformat": 4,
 "nbformat_minor": 2
}
