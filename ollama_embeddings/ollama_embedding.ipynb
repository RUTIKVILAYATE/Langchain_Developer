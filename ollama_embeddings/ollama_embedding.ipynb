{
 "cells": [
  {
   "cell_type": "code",
   "execution_count": null,
   "metadata": {},
   "outputs": [],
   "source": [
    "# Ollama -> Open Source Platform where we can able to use open source models like \n",
    "# Llama3, Phi 3, Mistral, Gemma and other models \n",
    "# Basically we can download ollama in local machine in which we download models and can run within it \n",
    "\n",
    "\n",
    "\n",
    "# Download Ollama -> approx. 275 mb\n",
    "# Open command prompt -> ollama run gemma:2b -> it will download this model if not present in local machine else it will run the model directly\n",
    "# we can chat with it in the command line itself -> as it is a llm trained by google and can make conversation \n"
   ]
  },
  {
   "cell_type": "code",
   "execution_count": null,
   "metadata": {},
   "outputs": [],
   "source": [
    "# Ollama -> supports embedding models -> making it possible to build retrieval augmented generation (RAG) application\n",
    "# that combines text prompt with existing document or other data "
   ]
  },
  {
   "cell_type": "code",
   "execution_count": null,
   "metadata": {},
   "outputs": [],
   "source": [
    "from langchain_communtity.embeddings import OllamaEmbeddings"
   ]
  },
  {
   "cell_type": "code",
   "execution_count": null,
   "metadata": {},
   "outputs": [],
   "source": [
    "# make sure before running gemma:2b is installed using ollama platform in local machine\n",
    "embeddings = (\n",
    "    OllamaEmbeddings(model=\"gemma:2b\") # by default it uses llama2 \n",
    ")"
   ]
  },
  {
   "cell_type": "code",
   "execution_count": null,
   "metadata": {},
   "outputs": [],
   "source": [
    "embeddings"
   ]
  },
  {
   "cell_type": "code",
   "execution_count": null,
   "metadata": {},
   "outputs": [],
   "source": [
    "# To Embed textr/document we have to provide the list of texst in embed_documents()\n",
    "\n",
    "r1 = embeddings.embed_documents(\n",
    "    [\n",
    "        \"Alpha is the first letter of Greek Alphabet\",\n",
    "        \"Beta is the second letter of Greek Alphabet\",\n",
    "    ]\n",
    ")"
   ]
  },
  {
   "cell_type": "code",
   "execution_count": null,
   "metadata": {},
   "outputs": [],
   "source": [
    "# Dimenstion of ollama_embedding\n",
    "len(r1[0]) "
   ]
  },
  {
   "cell_type": "code",
   "execution_count": null,
   "metadata": {},
   "outputs": [],
   "source": [
    "# Embedding some query to check the vectors of previous is similar to the vector of this \n",
    "embeddings.embed_query(\"What is the second letter of Greek Alphabet\")"
   ]
  },
  {
   "cell_type": "code",
   "execution_count": null,
   "metadata": {},
   "outputs": [],
   "source": [
    "# If want to use other embedding models\n",
    "# https://ollama.com/blog/embedding-models\n",
    "\n",
    "\n",
    "\n",
    "# Download the model before running the below code\n",
    "embeddings = OllamaEmbeddings(model = \"mxbai-embed-large\")\n",
    "text = \"This is a text document\"\n",
    "query_result = embeddings.embed_query(text)\n",
    "query_result"
   ]
  },
  {
   "cell_type": "code",
   "execution_count": null,
   "metadata": {},
   "outputs": [],
   "source": [
    "len(query_result)"
   ]
  }
 ],
 "metadata": {
  "kernelspec": {
   "display_name": "Python 3",
   "language": "python",
   "name": "python3"
  },
  "language_info": {
   "name": "python",
   "version": "3.10.0"
  }
 },
 "nbformat": 4,
 "nbformat_minor": 2
}
