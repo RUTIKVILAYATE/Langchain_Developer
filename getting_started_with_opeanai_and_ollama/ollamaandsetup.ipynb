{
 "cells": [
  {
   "cell_type": "code",
   "execution_count": null,
   "metadata": {},
   "outputs": [],
   "source": [
    "#  To run opensource models using ollam we have to download it first -> if model is available -> ollam run model if not it will download it first and then run it \n",
    "#  syntax -> ollama run model_name \n",
    "# ex.- -> ollama run gemma:2b\n",
    "\n",
    "\n",
    "# ollama -> ollama icon\n",
    "# cmd -> ollama run llama3 \n",
    "# now you can chat with llama3 in the cmd prompt itself\n",
    "# exit -> to exit "
   ]
  },
  {
   "cell_type": "code",
   "execution_count": null,
   "metadata": {},
   "outputs": [],
   "source": []
  }
 ],
 "metadata": {
  "kernelspec": {
   "display_name": "Python 3",
   "language": "python",
   "name": "python3"
  },
  "language_info": {
   "name": "python",
   "version": "3.10.0"
  }
 },
 "nbformat": 4,
 "nbformat_minor": 2
}
